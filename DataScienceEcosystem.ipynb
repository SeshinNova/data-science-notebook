{
 "cells": [
  {
   "cell_type": "markdown",
   "id": "e9abd776-ff24-429b-b633-763951bb40e1",
   "metadata": {},
   "source": [
    "# Data Science Tools and Ecosystem"
   ]
  },
  {
   "cell_type": "markdown",
   "id": "32d1022f-92d3-496b-9fe9-0b5dc7425c24",
   "metadata": {},
   "source": [
    "In this notebook, Data Science Tools and Ecosystem are summarized."
   ]
  },
  {
   "cell_type": "markdown",
   "id": "ec45ae4d-b564-429c-bbfd-b4a8f32dc2bc",
   "metadata": {},
   "source": [
    "Some of the popular languages that Data Scientists use are:\r\n",
    "1. Python\r\n",
    "2. R\r\n",
    "3. SQL\r\n",
    "4. Julia\r\n",
    "5. Scala"
   ]
  },
  {
   "cell_type": "markdown",
   "id": "0543264f-a4b1-44e8-b92a-e548f00d7a85",
   "metadata": {},
   "source": [
    "Some of the commonly used libraries used by Data Scientists include:\r\n",
    "1. Pandas\r\n",
    "2. NumPy\r\n",
    "3. Matplotlib\r\n",
    "4. Scikit-learn\r\n",
    "5. Tenso\n",
    "6. Scipy\n",
    "7. pyTorch\n",
    "8. Keras.\n",
    "   rFlow"
   ]
  },
  {
   "cell_type": "markdown",
   "id": "f3cb231e-3a4e-4941-90ef-71a6db51e0d9",
   "metadata": {},
   "source": [
    "| Data Science Tools |\r\n",
    "|--------------------|\r\n",
    "| Jupyter Notebook   |\r\n",
    "| RStudio            |\r\n",
    "| Apache Zeppelin    |"
   ]
  },
  {
   "cell_type": "markdown",
   "id": "8e881464-6a19-4e2f-bcb3-ca452dd496e1",
   "metadata": {},
   "source": [
    "### Below are a few examples of evaluating arithmetic expressions in Python."
   ]
  },
  {
   "cell_type": "code",
   "execution_count": 2,
   "id": "63b741dc-9dab-4502-9618-0229863e03fb",
   "metadata": {},
   "outputs": [
    {
     "data": {
      "text/plain": [
       "17"
      ]
     },
     "execution_count": 2,
     "metadata": {},
     "output_type": "execute_result"
    }
   ],
   "source": [
    "# This a simple arithmetic expression to multiply then add integers\r\n",
    "(3*4)+5"
   ]
  },
  {
   "cell_type": "code",
   "execution_count": 3,
   "id": "4258d2ca-7b31-483f-b1d9-5f0ab9820584",
   "metadata": {},
   "outputs": [
    {
     "data": {
      "text/plain": [
       "3.3333333333333335"
      ]
     },
     "execution_count": 3,
     "metadata": {},
     "output_type": "execute_result"
    }
   ],
   "source": [
    "# This will convert 200 minutes to hours by dividing by 60\r\n",
    "200 / 60"
   ]
  },
  {
   "cell_type": "markdown",
   "id": "c3154b34-0c06-4a2a-8f6b-28c3a53094d7",
   "metadata": {},
   "source": [
    "**Objectives:**\n",
    "- List popular languages for Data Science\n",
    "- Identify commonly used libraries in Data Science\n",
    "- Create a table of Data Science tools\n",
    "- Demonstrate arithmetic expressions in Python\n",
    "- Convert time units (minutes to hours)"
   ]
  },
  {
   "cell_type": "code",
   "execution_count": null,
   "id": "8f40c116-816e-43db-8340-392f7fee43d8",
   "metadata": {},
   "outputs": [],
   "source": [
    "## Author\n",
    "FAIZA PARVEEN SHAIKH "
   ]
  },
  {
   "cell_type": "code",
   "execution_count": null,
   "id": "07d78056-2583-49ac-8bb3-14c3a0ed8bc5",
   "metadata": {},
   "outputs": [],
   "source": []
  }
 ],
 "metadata": {
  "kernelspec": {
   "display_name": "anaconda-ai-2024.04-py310",
   "language": "python",
   "name": "conda-env-anaconda-ai-2024.04-py310-py"
  },
  "language_info": {
   "codemirror_mode": {
    "name": "ipython",
    "version": 3
   },
   "file_extension": ".py",
   "mimetype": "text/x-python",
   "name": "python",
   "nbconvert_exporter": "python",
   "pygments_lexer": "ipython3",
   "version": "3.10.13"
  }
 },
 "nbformat": 4,
 "nbformat_minor": 5
}
